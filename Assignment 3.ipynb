{
 "cells": [
  {
   "cell_type": "code",
   "execution_count": 1,
   "id": "8ff59a16",
   "metadata": {},
   "outputs": [
    {
     "name": "stdout",
     "output_type": "stream",
     "text": [
      "Twinkle, twinkle, little star,\n",
      "      How I wonder what you are!\n",
      "            Up above the world so high,\n",
      "            Like a diamond in the sky.\n",
      "Twinkle, twinkle, little star,\n",
      "    How I wonder what you are!\n"
     ]
    }
   ],
   "source": [
    "\"\"\" 1. Write a Python program to print the following string in a specific format (see the Output).\n",
    "               Twinkle, twinkle, little star,\n",
    "                               How I wonder what you are!\n",
    "                                               Up above the world so high,\n",
    "   Like a diamond in the sky.\n",
    "Twinkle, twinkle, little star,\n",
    "                              How I wonder what you are\"\"\"\n",
    "\n",
    "print(\"Twinkle, twinkle, little star,\")\n",
    "print(\"      How I wonder what you are!\")\n",
    "print(\"            Up above the world so high,\")\n",
    "print(\"            Like a diamond in the sky.\")\n",
    "print(\"Twinkle, twinkle, little star,\")\n",
    "print(\"    How I wonder what you are!\")"
   ]
  },
  {
   "cell_type": "code",
   "execution_count": 2,
   "id": "55578c29",
   "metadata": {},
   "outputs": [
    {
     "name": "stdout",
     "output_type": "stream",
     "text": [
      "Python Version\n",
      "3.8.8 (default, Apr 13 2021, 15:08:03) [MSC v.1916 64 bit (AMD64)]\n"
     ]
    }
   ],
   "source": [
    "# 2. Write a Python program to get the Python version you are using.\n",
    "\n",
    "import sys\n",
    "print (\"Python Version\")\n",
    "print (sys.version)"
   ]
  },
  {
   "cell_type": "code",
   "execution_count": 5,
   "id": "8643760f",
   "metadata": {},
   "outputs": [
    {
     "name": "stdout",
     "output_type": "stream",
     "text": [
      "Current Date: \n",
      "10-22-2021 Friday,October 22th,2021\n",
      "Current Time: \n",
      "07:13:35 PM\n"
     ]
    }
   ],
   "source": [
    "# 3. Write a Python program to display the current date and time.\n",
    "\n",
    "import datetime\n",
    "now = datetime.datetime.now()\n",
    "print (\"Current Date: \")\n",
    "print (now.strftime(\"%m-%d-%Y %A,%B %dth,%Y\"))\n",
    "print (\"Current Time: \")\n",
    "print (now.strftime(\"%I:%M:%S %p\"))"
   ]
  },
  {
   "cell_type": "code",
   "execution_count": 7,
   "id": "ee750a04",
   "metadata": {},
   "outputs": [
    {
     "name": "stdout",
     "output_type": "stream",
     "text": [
      "Enter Radius of Circle: 5\n",
      "\n",
      "The Area of The Circle Is:79.25\n"
     ]
    }
   ],
   "source": [
    "# 4. Write a Python program which accepts the radius of a circle from the user and compute the area.\n",
    "\n",
    "a = float(input(\"Enter Radius of Circle: \"))\n",
    "b = 3.17*a**2\n",
    "print(\"\\nThe Area of The Circle Is:\"  +str(b))"
   ]
  },
  {
   "cell_type": "code",
   "execution_count": 10,
   "id": "911dd219",
   "metadata": {},
   "outputs": [
    {
     "name": "stdout",
     "output_type": "stream",
     "text": [
      "Enter Your First Name: Humaira\n",
      "Enter Your Last Name: Ali\n",
      "Humaira Ali\n",
      "Reverse Is: Ali Humaira\n",
      "Reverse Is: ariamuH ilA\n"
     ]
    }
   ],
   "source": [
    "# 5. Write a Python program which accepts the user's first and last name and print them in reverse order with a space between them.\n",
    "\n",
    "fname = input (\"Enter Your First Name: \")\n",
    "lname = input(\"Enter Your Last Name: \")\n",
    "print(fname , lname)\n",
    "print ( \"Reverse Is: \" + lname + \" \" + fname)\n",
    "print ( \"Reverse Is: \" + fname[::-1] + \" \" + lname[::-1])"
   ]
  },
  {
   "cell_type": "code",
   "execution_count": 12,
   "id": "5110b134",
   "metadata": {},
   "outputs": [
    {
     "name": "stdout",
     "output_type": "stream",
     "text": [
      "Enter First Value: 6\n",
      "Enter Second Value: 6\n",
      "Sum Is:  12\n"
     ]
    }
   ],
   "source": [
    "# 6. Write a python program which takes two inputs from user and print them addition.\n",
    "\n",
    "a = int (input(\"Enter First Value: \"))\n",
    "b = int (input(\"Enter Second Value: \"))\n",
    "c = a+b\n",
    "print(\"Sum Is: \", c)"
   ]
  },
  {
   "cell_type": "code",
   "execution_count": 14,
   "id": "ee55883b",
   "metadata": {},
   "outputs": [
    {
     "name": "stdout",
     "output_type": "stream",
     "text": [
      "Enter English Marks: 75\n",
      "Enter Math Marks: 92\n",
      "Enter Urdu Marks: 80\n",
      "Enter Physics Marks: 70\n",
      "Enter Islamiat Marks: 79\n",
      "\n",
      "-------------Mark Sheet------------\n",
      "\n",
      " Total Marks : 500 \n",
      "\n",
      " Obtained Marks : 396\n",
      "\n",
      " Your Percentge Is : 79.2\n",
      "\n",
      "Your Grade is Grade B\n"
     ]
    }
   ],
   "source": [
    "# 7. Write a program which takes 5 inputs from user for different subject’s marks, total it and generate mark sheet using grades?\n",
    "\n",
    "english =int (input(\"Enter English Marks: \"))\n",
    "math =int (input(\"Enter Math Marks: \"))\n",
    "urdu =int (input(\"Enter Urdu Marks: \"))\n",
    "physics =int (input(\"Enter Physics Marks: \"))\n",
    "islamiat =int (input(\"Enter Islamiat Marks: \"))\n",
    "obtain_marks= english + math + urdu + physics + islamiat\n",
    "percentge= obtain_marks / 500 * 100\n",
    "print (\"\\n-------------Mark Sheet------------\")\n",
    "print (\"\\n Total Marks : 500 \")\n",
    "print (\"\\n Obtained Marks : \" +str(obtain_marks))\n",
    "print (\"\\n Your Percentge Is : \" +str(percentge))\n",
    "if percentge  <= 100 and percentge  > 90:\n",
    "    print (\"\\nYour Grade is Grade A+\")\n",
    "elif percentge  <= 90 and percentge  > 80:\n",
    "    print (\"\\nYour Grade is Grade A\")\n",
    "elif percentge <= 80 and percentge  > 70:\n",
    "    print (\"\\nYour Grade is Grade B\")\n",
    "elif percentge  <= 70 and percentge  > 60:\n",
    "    print (\"\\nYour Grade is Grade C\")\n",
    "elif percentge  <= 60 and percentge  > 50:\n",
    "    print (\"\\nYour Grade is Grade D\")\n",
    "else:\n",
    "    print(\"\\nFail\")"
   ]
  },
  {
   "cell_type": "code",
   "execution_count": 15,
   "id": "09543bd7",
   "metadata": {},
   "outputs": [
    {
     "name": "stdout",
     "output_type": "stream",
     "text": [
      "Enter a Number: 27\n",
      "This is An Odd Number.\n"
     ]
    }
   ],
   "source": [
    "# 8. Write a program which take input from user and identify that the given number is even or odd?\n",
    "\n",
    "num = int(input(\"Enter a Number: \"))\n",
    "mod = num % 2\n",
    "if mod > 0:\n",
    "    print(\"This is An Odd Number.\")\n",
    "else:\n",
    "    print(\"This is An Even Number.\")"
   ]
  },
  {
   "cell_type": "code",
   "execution_count": 16,
   "id": "edce9b7a",
   "metadata": {},
   "outputs": [
    {
     "name": "stdout",
     "output_type": "stream",
     "text": [
      "The Lentgh of The List Is: 9\n"
     ]
    }
   ],
   "source": [
    "# 9. Write a program which prints the length of the list?\n",
    "\n",
    "data = [64, 89, 1, 6, 7, 12, 8, 34, 86]\n",
    "\n",
    "length = len(data)\n",
    "print(\"The Lentgh of The List Is: \" + str(length))\n"
   ]
  },
  {
   "cell_type": "code",
   "execution_count": 18,
   "id": "b4682bbc",
   "metadata": {},
   "outputs": [
    {
     "name": "stdout",
     "output_type": "stream",
     "text": [
      "The Sum of The Elements in The List:  307\n"
     ]
    }
   ],
   "source": [
    "# 10. Write a Python program to sum all the numeric items in a list?\n",
    "\n",
    "numbers = [64, 89, 1, 6, 7, 12, 8, 34, 86]  \n",
    "Sum = sum(numbers) \n",
    "print(\"The Sum of The Elements in The List: \" , Sum) \n"
   ]
  },
  {
   "cell_type": "code",
   "execution_count": 21,
   "id": "c5ffa243",
   "metadata": {},
   "outputs": [
    {
     "name": "stdout",
     "output_type": "stream",
     "text": [
      "The Largest Element in The List Is:  89\n"
     ]
    }
   ],
   "source": [
    "# 11. Write a Python program to get the largest number from a numeric list.\n",
    "\n",
    "numbers = [64, 89, 1, 6, 7, 12, 8, 34, 86]  \n",
    "lar = max(numbers) \n",
    "print(\"The Largest Element in The List Is: \" , lar) "
   ]
  },
  {
   "cell_type": "code",
   "execution_count": 25,
   "id": "9f2a72a0",
   "metadata": {},
   "outputs": [
    {
     "name": "stdout",
     "output_type": "stream",
     "text": [
      "[1, 1, 2, 3]\n"
     ]
    }
   ],
   "source": [
    "\"\"\" 12. Take a list, say for example this one:\n",
    "a = [1, 1, 2, 3, 5, 8, 13, 21, 34, 55, 89]\n",
    "Write a program that prints out all the elements of the list that are less than 5.\"\"\"\n",
    "\n",
    "a = [1, 1, 2, 3, 5, 8, 13, 21, 34, 55, 89]\n",
    "b = []\n",
    "for i in a:\n",
    "    if i < 5:\n",
    "        b.append(i)\n",
    "print(b)\n",
    "\n"
   ]
  },
  {
   "cell_type": "code",
   "execution_count": null,
   "id": "0361fe61",
   "metadata": {},
   "outputs": [],
   "source": []
  }
 ],
 "metadata": {
  "kernelspec": {
   "display_name": "Python 3",
   "language": "python",
   "name": "python3"
  },
  "language_info": {
   "codemirror_mode": {
    "name": "ipython",
    "version": 3
   },
   "file_extension": ".py",
   "mimetype": "text/x-python",
   "name": "python",
   "nbconvert_exporter": "python",
   "pygments_lexer": "ipython3",
   "version": "3.8.8"
  }
 },
 "nbformat": 4,
 "nbformat_minor": 5
}
