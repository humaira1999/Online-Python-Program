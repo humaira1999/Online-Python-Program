{
  "nbformat": 4,
  "nbformat_minor": 0,
  "metadata": {
    "colab": {
      "name": "Assignment4.ipynb",
      "provenance": []
    },
    "kernelspec": {
      "name": "python3",
      "display_name": "Python 3"
    },
    "language_info": {
      "name": "python"
    }
  },
  "cells": [
    {
      "cell_type": "code",
      "metadata": {
        "colab": {
          "base_uri": "https://localhost:8080/"
        },
        "id": "iG0FvfwJ7eKw",
        "outputId": "3065d850-3961-48eb-a4b5-46e691ac2d91"
      },
      "source": [
        "# Make a calculator using Python addition, subtraction, multiplication, division and power.\n",
        "def add(x, y):\n",
        "   return x + y\n",
        "\n",
        "def subtract(x, y):\n",
        "   return x - y\n",
        "\n",
        "def multiply(x, y):\n",
        "   return x * y\n",
        "\n",
        "def divide(x, y):\n",
        "   return x / y\n",
        "\n",
        "def power(x):\n",
        "  return x**2\n",
        "print(\"Select operation.\")\n",
        "print(\"1.Add\")\n",
        "print(\"2.Subtract\")\n",
        "print(\"3.Multiply\")\n",
        "print(\"4.Divide\")\n",
        "print (\"5.Power\")\n",
        "\n",
        "choice = input(\"Enter choice(1/2/3/4/5): \")\n",
        "num1 = float(input(\"Enter first number: \"))\n",
        "num2 = float(input(\"Enter second number: \"))\n",
        "if choice == '1':\n",
        "   print(num1,\"+\",num2,\"=\", add(num1,num2))\n",
        "elif choice == '2':\n",
        "   print(num1,\"-\",num2,\"=\", subtract(num1,num2))\n",
        "elif choice == '3':\n",
        "   print(num1,\"*\",num2,\"=\", multiply(num1,num2))\n",
        "elif choice == '4':\n",
        "   print(num1,\"/\",num2,\"=\", divide(num1,num2))\n",
        "elif choice == '5':\n",
        "   print(num1,\"**\",\"=\", power(num1))\n",
        "\n",
        "else:\n",
        "   print(\"Invalid input\")"
      ],
      "execution_count": null,
      "outputs": [
        {
          "output_type": "stream",
          "name": "stdout",
          "text": [
            "Select operation.\n",
            "1.Add\n",
            "2.Subtract\n",
            "3.Multiply\n",
            "4.Divide\n",
            "5.Power\n",
            "Enter choice(1/2/3/4/5): 3\n",
            "Enter first number: 5\n",
            "Enter second number: 6\n",
            "5.0 * 6.0 = 30.0\n"
          ]
        }
      ]
    },
    {
      "cell_type": "code",
      "metadata": {
        "colab": {
          "base_uri": "https://localhost:8080/"
        },
        "id": "ZoEdbLogAhR2",
        "outputId": "17e90745-a8ca-4427-dc9b-ba94adc50652"
      },
      "source": [
        "# Write a program to check if there is any numeric value in list using for loop.\n",
        "\n",
        "list = [2, \"huma\", \"23\", \"ali\", 3, 6 ] \n",
        "for i in list: \n",
        "    if type(i) == int: \n",
        "        print(i)"
      ],
      "execution_count": null,
      "outputs": [
        {
          "output_type": "stream",
          "name": "stdout",
          "text": [
            "2\n",
            "3\n",
            "6\n"
          ]
        }
      ]
    },
    {
      "cell_type": "code",
      "metadata": {
        "colab": {
          "base_uri": "https://localhost:8080/"
        },
        "id": "PjqDX5doBNwv",
        "outputId": "c2e92b64-36f1-45a4-b20b-231ec91df50a"
      },
      "source": [
        "# write a python script to add a key to a dictionary.\n",
        "dict = {'Name': 'Humaira', 'F.Name': 'Ali'}\n",
        "\n",
        "print(dict)\n",
        "\n",
        "dict['Gender'] = 'Female'\n",
        "\n",
        "print(dict)"
      ],
      "execution_count": null,
      "outputs": [
        {
          "output_type": "stream",
          "name": "stdout",
          "text": [
            "{'Name': 'Humaira', 'F.Name': 'Ali'}\n",
            "{'Name': 'Humaira', 'F.Name': 'Ali', 'Gender': 'Female'}\n"
          ]
        }
      ]
    },
    {
      "cell_type": "code",
      "metadata": {
        "colab": {
          "base_uri": "https://localhost:8080/"
        },
        "id": "GaT2nmbXDWb9",
        "outputId": "6708b3e0-aecb-493b-c7e7-4f0424cc252b"
      },
      "source": [
        "# Write a python program to sum all the numeric items in a dictionary.\n",
        "\n",
        "def returnSum(myDict): \n",
        "      \n",
        "    sum = 0\n",
        "    for i in myDict: \n",
        "        sum = sum + myDict[i] \n",
        "      \n",
        "    return sum\n",
        "   \n",
        "dict = {'a': 100, 'b':200, 'c':300,} \n",
        "print(\"Sum :\", returnSum(dict))"
      ],
      "execution_count": 8,
      "outputs": [
        {
          "output_type": "stream",
          "name": "stdout",
          "text": [
            "Sum : 600\n"
          ]
        }
      ]
    },
    {
      "cell_type": "code",
      "metadata": {
        "colab": {
          "base_uri": "https://localhost:8080/"
        },
        "id": "LFNJjWebVFtZ",
        "outputId": "1a6a124e-f682-4b45-efd4-04262d9c855f"
      },
      "source": [
        "# Write a program to identify duplicate values from list.\n",
        "\n",
        "def Duplicate (x): \n",
        "    _size = len(x) \n",
        "    duplicate = [] \n",
        "    for i in range(_size): \n",
        "        k = i + 1\n",
        "        for j in range(k, _size): \n",
        "            if x[i] == x[j] and x[i] not in duplicate: \n",
        "                duplicate.append(x[i]) \n",
        "    return duplicate \n",
        "  \n",
        "\n",
        "list1 = [10, 20, 30, 20, 20, 50, 30, 40,  \n",
        "         50, -20, 60, 60, -20, -20] \n",
        "print (Duplicate (list1)) "
      ],
      "execution_count": 9,
      "outputs": [
        {
          "output_type": "stream",
          "name": "stdout",
          "text": [
            "[20, 30, 50, -20, 60]\n"
          ]
        }
      ]
    },
    {
      "cell_type": "code",
      "metadata": {
        "colab": {
          "base_uri": "https://localhost:8080/"
        },
        "id": "OTh8NqRFVUP9",
        "outputId": "000ddec7-dbc3-4774-d7cf-855d8ff10348"
      },
      "source": [
        "# Write a python script to check if a given key already exist in a dictionary.\n",
        "\n",
        "def checkKey(dict, key): \n",
        "      \n",
        "    if key in dict.keys(): \n",
        "        print(\"Exist, \", end =\" \") \n",
        "        print(\"value =\", dict[key]) \n",
        "    else: \n",
        "        print(\"Not present\") \n",
        "   \n",
        "dict = {'a': 45, 'b':'huma', 'c':10, 'd':'ali'} \n",
        "  \n",
        "key = 'd'\n",
        "checkKey(dict, key) \n"
      ],
      "execution_count": 7,
      "outputs": [
        {
          "output_type": "stream",
          "name": "stdout",
          "text": [
            "Exist,  value = ali\n"
          ]
        }
      ]
    }
  ]
}